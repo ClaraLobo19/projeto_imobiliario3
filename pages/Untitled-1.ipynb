{
 "cells": [
  {
   "cell_type": "code",
   "execution_count": 2,
   "metadata": {},
   "outputs": [],
   "source": [
    "import pandas as pd"
   ]
  },
  {
   "cell_type": "code",
   "execution_count": 4,
   "metadata": {},
   "outputs": [
    {
     "data": {
      "text/plain": [
       "Index(['Unnamed: 0', 'endereco', 'legenda', 'area m²', 'Quartos', 'banheiros',\n",
       "       'vagas', 'preço', 'condominio', 'rua', 'bairro', 'cidade', 'estado',\n",
       "       'preco p/ m²', 'endereco_geo', 'latitude', 'longitude', 'preco_bin',\n",
       "       'Regional', 'IDH-Educação', 'IDH-Longevidade', 'IDH-Renda', 'IDH'],\n",
       "      dtype='object')"
      ]
     },
     "execution_count": 4,
     "metadata": {},
     "output_type": "execute_result"
    }
   ],
   "source": [
    "df = pd.read_csv('arquivos/base_consolidada.csv')\n",
    "df.columns"
   ]
  }
 ],
 "metadata": {
  "kernelspec": {
   "display_name": "Python 3",
   "language": "python",
   "name": "python3"
  },
  "language_info": {
   "codemirror_mode": {
    "name": "ipython",
    "version": 3
   },
   "file_extension": ".py",
   "mimetype": "text/x-python",
   "name": "python",
   "nbconvert_exporter": "python",
   "pygments_lexer": "ipython3",
   "version": "3.12.5"
  }
 },
 "nbformat": 4,
 "nbformat_minor": 2
}
